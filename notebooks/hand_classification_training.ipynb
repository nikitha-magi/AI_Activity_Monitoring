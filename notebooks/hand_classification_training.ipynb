{
 "cells": [
  {
   "cell_type": "markdown",
   "metadata": {},
   "source": [
    "# Hand Classification Training"
   ]
  },
  {
   "cell_type": "code",
   "execution_count": 1,
   "metadata": {},
   "outputs": [],
   "source": [
    "# This is only demo, training data is not included in the repo for leagal purposes"
   ]
  },
  {
   "cell_type": "code",
   "execution_count": 2,
   "metadata": {},
   "outputs": [],
   "source": [
    "from keras.preprocessing.image import ImageDataGenerator\n",
    "from keras.models import Sequential\n",
    "from keras.layers import Conv2D, MaxPooling2D\n",
    "from keras.layers import Activation, Dropout, Flatten, Dense\n",
    "from keras import backend as K\n",
    "import matplotlib.pyplot as plt"
   ]
  },
  {
   "cell_type": "code",
   "execution_count": 3,
   "metadata": {},
   "outputs": [],
   "source": [
    "import sys\n",
    "# Add the project root directory to the Python path\n",
    "sys.path.append('../')\n",
    "\n",
    "from src.utils.config import MODEL_DIR, DATA_DIR\n",
    "\n",
    "img_width, img_height = 224, 224\n",
    "  \n",
    "train_data_dir = DATA_DIR / 'hand_classification' / 'train'\n",
    "validation_data_dir = DATA_DIR / 'hand_classification' / 'validate'\n",
    "nb_train_samples = 4000 \n",
    "nb_validation_samples = 400\n",
    "epochs = 10\n",
    "batch_size = 16"
   ]
  },
  {
   "cell_type": "code",
   "execution_count": 4,
   "metadata": {},
   "outputs": [],
   "source": [
    "if K.image_data_format() == 'channels_first': \n",
    "    input_shape = (3, img_width, img_height) \n",
    "else: \n",
    "    input_shape = (img_width, img_height, 3) "
   ]
  },
  {
   "cell_type": "code",
   "execution_count": 5,
   "metadata": {},
   "outputs": [],
   "source": [
    "model = Sequential() \n",
    "model.add(Conv2D(32, (2, 2), input_shape = input_shape)) \n",
    "model.add(Activation('relu')) \n",
    "model.add(MaxPooling2D(pool_size =(2, 2))) \n",
    "  \n",
    "model.add(Conv2D(32, (2, 2))) \n",
    "model.add(Activation('relu')) \n",
    "model.add(MaxPooling2D(pool_size =(2, 2))) \n",
    "  \n",
    "model.add(Conv2D(64, (2, 2))) \n",
    "model.add(Activation('relu')) \n",
    "model.add(MaxPooling2D(pool_size =(2, 2))) \n",
    "  \n",
    "model.add(Flatten()) \n",
    "model.add(Dense(64)) \n",
    "model.add(Activation('relu')) \n",
    "model.add(Dropout(0.5)) \n",
    "model.add(Dense(1)) \n",
    "model.add(Activation('sigmoid'))"
   ]
  },
  {
   "cell_type": "code",
   "execution_count": 6,
   "metadata": {},
   "outputs": [],
   "source": [
    "model.compile(loss ='binary_crossentropy', \n",
    "                     optimizer ='rmsprop', \n",
    "                   metrics =['accuracy']) \n",
    "  "
   ]
  },
  {
   "cell_type": "code",
   "execution_count": 7,
   "metadata": {},
   "outputs": [],
   "source": [
    "train_datagen = ImageDataGenerator( \n",
    "                rescale = 1. / 255, \n",
    "                 shear_range = 0.2, \n",
    "                  zoom_range = 0.2, \n",
    "            horizontal_flip = True) "
   ]
  },
  {
   "cell_type": "code",
   "execution_count": 8,
   "metadata": {},
   "outputs": [],
   "source": [
    "test_datagen = ImageDataGenerator(rescale = 1. / 255) "
   ]
  },
  {
   "cell_type": "code",
   "execution_count": 9,
   "metadata": {
    "scrolled": true
   },
   "outputs": [
    {
     "name": "stdout",
     "output_type": "stream",
     "text": [
      "Found 4189 images belonging to 2 classes.\n",
      "Found 400 images belonging to 2 classes.\n"
     ]
    }
   ],
   "source": [
    "train_generator = train_datagen.flow_from_directory(train_data_dir, \n",
    "                              target_size =(img_width, img_height), \n",
    "                     batch_size = batch_size, class_mode ='binary',shuffle=True) \n",
    "  \n",
    "validation_generator = test_datagen.flow_from_directory( \n",
    "                                    validation_data_dir, \n",
    "                   target_size =(img_width, img_height), \n",
    "          batch_size = batch_size, class_mode ='binary',shuffle=True) "
   ]
  },
  {
   "cell_type": "code",
   "execution_count": 10,
   "metadata": {
    "scrolled": true
   },
   "outputs": [
    {
     "name": "stdout",
     "output_type": "stream",
     "text": [
      "Epoch 1/20\n",
      "250/250 [==============================] - 119s 361ms/step - loss: 0.7691 - accuracy: 0.5699 - val_loss: 0.3574 - val_accuracy: 0.8575\n",
      "Epoch 2/20\n",
      "250/250 [==============================] - 90s 359ms/step - loss: 0.4592 - accuracy: 0.7880 - val_loss: 0.1886 - val_accuracy: 0.9275\n",
      "Epoch 3/20\n",
      "250/250 [==============================] - 86s 342ms/step - loss: 0.3352 - accuracy: 0.8635 - val_loss: 0.1477 - val_accuracy: 0.9425\n",
      "Epoch 4/20\n",
      "250/250 [==============================] - 93s 372ms/step - loss: 0.2694 - accuracy: 0.8827 - val_loss: 0.1186 - val_accuracy: 0.9600\n",
      "Epoch 5/20\n",
      "250/250 [==============================] - 77s 308ms/step - loss: 0.2444 - accuracy: 0.9015 - val_loss: 0.0889 - val_accuracy: 0.9750\n",
      "Epoch 6/20\n",
      "250/250 [==============================] - 77s 309ms/step - loss: 0.2145 - accuracy: 0.9178 - val_loss: 0.1271 - val_accuracy: 0.9600\n",
      "Epoch 7/20\n",
      "250/250 [==============================] - 88s 354ms/step - loss: 0.1900 - accuracy: 0.9220 - val_loss: 0.1056 - val_accuracy: 0.9625\n",
      "Epoch 8/20\n",
      "250/250 [==============================] - 78s 310ms/step - loss: 0.1894 - accuracy: 0.9363 - val_loss: 0.1155 - val_accuracy: 0.9475\n",
      "Epoch 9/20\n",
      "250/250 [==============================] - 77s 309ms/step - loss: 0.1472 - accuracy: 0.9483 - val_loss: 0.0970 - val_accuracy: 0.9675\n",
      "Epoch 10/20\n",
      "250/250 [==============================] - 78s 311ms/step - loss: 0.1674 - accuracy: 0.9337 - val_loss: 0.1315 - val_accuracy: 0.9400\n",
      "Epoch 11/20\n",
      "250/250 [==============================] - 78s 310ms/step - loss: 0.1508 - accuracy: 0.9493 - val_loss: 0.1661 - val_accuracy: 0.9375\n",
      "Epoch 12/20\n",
      "250/250 [==============================] - 78s 310ms/step - loss: 0.1555 - accuracy: 0.9509 - val_loss: 0.1013 - val_accuracy: 0.9600\n",
      "Epoch 13/20\n",
      "250/250 [==============================] - 77s 309ms/step - loss: 0.1399 - accuracy: 0.9472 - val_loss: 0.1516 - val_accuracy: 0.9450\n",
      "Epoch 14/20\n",
      "250/250 [==============================] - 77s 309ms/step - loss: 0.1382 - accuracy: 0.9541 - val_loss: 0.1180 - val_accuracy: 0.9400\n",
      "Epoch 15/20\n",
      "250/250 [==============================] - 78s 312ms/step - loss: 0.1486 - accuracy: 0.9538 - val_loss: 0.0745 - val_accuracy: 0.9725\n",
      "Epoch 16/20\n",
      "250/250 [==============================] - 79s 314ms/step - loss: 0.1315 - accuracy: 0.9568 - val_loss: 0.0730 - val_accuracy: 0.9700\n",
      "Epoch 17/20\n",
      "250/250 [==============================] - 78s 311ms/step - loss: 0.1286 - accuracy: 0.9586 - val_loss: 0.0805 - val_accuracy: 0.9750\n",
      "Epoch 18/20\n",
      "250/250 [==============================] - 79s 314ms/step - loss: 0.1346 - accuracy: 0.9522 - val_loss: 0.0674 - val_accuracy: 0.9800\n",
      "Epoch 19/20\n",
      "250/250 [==============================] - 79s 315ms/step - loss: 0.1283 - accuracy: 0.9573 - val_loss: 0.1014 - val_accuracy: 0.9650\n",
      "Epoch 20/20\n",
      "250/250 [==============================] - 79s 315ms/step - loss: 0.1293 - accuracy: 0.9575 - val_loss: 0.1170 - val_accuracy: 0.9575\n"
     ]
    }
   ],
   "source": [
    "history = model.fit(train_generator, \n",
    "    steps_per_epoch = nb_train_samples // batch_size, \n",
    "    epochs = 20, validation_data = validation_generator, \n",
    "    validation_steps = nb_validation_samples // batch_size) "
   ]
  },
  {
   "cell_type": "code",
   "execution_count": 11,
   "metadata": {},
   "outputs": [
    {
     "data": {
      "image/png": "[encoded data removed]",
      "text/plain": [
       "<Figure size 432x288 with 1 Axes>"
      ]
     },
     "metadata": {
      "needs_background": "light"
     },
     "output_type": "display_data"
    },
    {
     "data": {
      "image/png": "[encoded data removed]",
      "text/plain": [
       "<Figure size 432x288 with 1 Axes>"
      ]
     },
     "metadata": {
      "needs_background": "light"
     },
     "output_type": "display_data"
    }
   ],
   "source": [
    "# Plot training & validation accuracy values\n",
    "plt.plot(history.history['accuracy'])\n",
    "plt.plot(history.history['val_accuracy'])\n",
    "plt.title('Model Accuracy')\n",
    "plt.ylabel('Accuracy')\n",
    "plt.xlabel('Epoch')\n",
    "plt.legend(['Train', 'Validation'], loc='upper left')\n",
    "plt.show()\n",
    "\n",
    "# Optionally, plot training & validation loss values\n",
    "plt.plot(history.history['loss'])\n",
    "plt.plot(history.history['val_loss'])\n",
    "plt.title('Model Loss')\n",
    "plt.ylabel('Loss')\n",
    "plt.xlabel('Epoch')\n",
    "plt.legend(['Train', 'Validation'], loc='upper left')\n",
    "plt.show()"
   ]
  },
  {
   "cell_type": "code",
   "execution_count": 12,
   "metadata": {},
   "outputs": [],
   "source": [
    "model.save(MODEL_DIR / 'hand_classification.h5')"
   ]
  },
  {
   "cell_type": "code",
   "execution_count": 13,
   "metadata": {
    "scrolled": true
   },
   "outputs": [
    {
     "name": "stdout",
     "output_type": "stream",
     "text": [
      "Model: \"sequential\"\n",
      "_________________________________________________________________\n",
      "Layer (type)                 Output Shape              Param #   \n",
      "=================================================================\n",
      "conv2d (Conv2D)              (None, 223, 223, 32)      416       \n",
      "_________________________________________________________________\n",
      "activation (Activation)      (None, 223, 223, 32)      0         \n",
      "_________________________________________________________________\n",
      "max_pooling2d (MaxPooling2D) (None, 111, 111, 32)      0         \n",
      "_________________________________________________________________\n",
      "conv2d_1 (Conv2D)            (None, 110, 110, 32)      4128      \n",
      "_________________________________________________________________\n",
      "activation_1 (Activation)    (None, 110, 110, 32)      0         \n",
      "_________________________________________________________________\n",
      "max_pooling2d_1 (MaxPooling2 (None, 55, 55, 32)        0         \n",
      "_________________________________________________________________\n",
      "conv2d_2 (Conv2D)            (None, 54, 54, 64)        8256      \n",
      "_________________________________________________________________\n",
      "activation_2 (Activation)    (None, 54, 54, 64)        0         \n",
      "_________________________________________________________________\n",
      "max_pooling2d_2 (MaxPooling2 (None, 27, 27, 64)        0         \n",
      "_________________________________________________________________\n",
      "flatten (Flatten)            (None, 46656)             0         \n",
      "_________________________________________________________________\n",
      "dense (Dense)                (None, 64)                2986048   \n",
      "_________________________________________________________________\n",
      "activation_3 (Activation)    (None, 64)                0         \n",
      "_________________________________________________________________\n",
      "dropout (Dropout)            (None, 64)                0         \n",
      "_________________________________________________________________\n",
      "dense_1 (Dense)              (None, 1)                 65        \n",
      "_________________________________________________________________\n",
      "activation_4 (Activation)    (None, 1)                 0         \n",
      "=================================================================\n",
      "Total params: 2,998,913\n",
      "Trainable params: 2,998,913\n",
      "Non-trainable params: 0\n",
      "_________________________________________________________________\n"
     ]
    }
   ],
   "source": [
    "model.summary()"
   ]
  }
 ],
 "metadata": {
  "kernelspec": {
   "display_name": "Python 3",
   "language": "python",
   "name": "python3"
  },
  "language_info": {
   "codemirror_mode": {
    "name": "ipython",
    "version": 3
   },
   "file_extension": ".py",
   "mimetype": "text/x-python",
   "name": "python",
   "nbconvert_exporter": "python",
   "pygments_lexer": "ipython3",
   "version": "3.8.8"
  }
 },
 "nbformat": 4,
 "nbformat_minor": 2
}
